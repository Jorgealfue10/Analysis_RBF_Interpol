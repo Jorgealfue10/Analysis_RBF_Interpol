{
 "cells": [
  {
   "cell_type": "code",
   "execution_count": 1,
   "id": "37e7a6cd",
   "metadata": {},
   "outputs": [],
   "source": [
    "import numpy as np\n",
    "import matplotlib.pyplot as plt\n",
    "from scipy.interpolate import RBFInterpolator\n"
   ]
  },
  {
   "cell_type": "code",
   "execution_count": 8,
   "id": "487f022d",
   "metadata": {},
   "outputs": [],
   "source": [
    "path=\"/home/jorgebdelafuente/Doctorado/PH2M/Sings/\"\n",
    "dm_entry_11 = np.loadtxt(path+\"entry/dm_1.1.dat\")\n",
    "dm_entry_12 = np.loadtxt(path+\"entry/dm_1.2.dat\")\n",
    "dm_exit_11 = np.loadtxt(path+\"exit/dm_1.1.dat\")\n",
    "dm_exit_12 = np.loadtxt(path+\"exit/dm_1.2.dat\")"
   ]
  },
  {
   "cell_type": "code",
   "execution_count": 9,
   "id": "7c65c336",
   "metadata": {},
   "outputs": [],
   "source": [
    "def get_ic(rg,rp,theta):\n",
    "    thrad=np.radians(theta)\n",
    "    r12=((rp*0.50)*(rp*0.50)+rg*rg-2.0*0.50*rp*rg*np.cos(thrad))**0.50\n",
    "    r13=((rp*0.50)*(rp*0.50)+rg*rg-2.0*0.50*rp*rg*np.cos(np.pi-thrad))**0.50\n",
    "    r23=rp\n",
    "    return r12,r13,r23"
   ]
  },
  {
   "cell_type": "code",
   "execution_count": 10,
   "id": "e7a2cf6f",
   "metadata": {},
   "outputs": [],
   "source": [
    "dm_11_entry_ic = np.zeros((len(dm_entry_11), 6))\n",
    "dm_12_entry_ic = np.zeros((len(dm_entry_12), 6))\n",
    "\n",
    "for i in range(len(dm_entry_11)):\n",
    "    r12, r13, r23 = get_ic(dm_entry_11[i, 0], dm_entry_11[i, 1], dm_entry_11[i, 1])\n",
    "    # coge las columnas 3,4,5 (índices 3:6)\n",
    "    dm_11_entry_ic[i, :] = np.array([r12, r13, r23,\n",
    "                                    dm_entry_11[i, 3], dm_entry_11[i, 4], dm_entry_11[i, 5]])\n",
    "\n",
    "for i in range(len(dm_entry_12)):\n",
    "    r12, r13, r23 = get_ic(dm_entry_12[i, 0], dm_entry_12[i, 1], dm_entry_12[i, 2])\n",
    "    dm_12_entry_ic[i, :] = np.array([r12, r13, r23,\n",
    "                                    dm_entry_12[i, 3], dm_entry_12[i, 4], dm_entry_12[i, 5]])\n"
   ]
  },
  {
   "cell_type": "code",
   "execution_count": 11,
   "id": "c747e950",
   "metadata": {},
   "outputs": [],
   "source": [
    "dm_mod_11 = np.zeros((len(dm_11_entry_ic)+len(dm_exit_11), 4))\n",
    "dm_mod_12 = np.zeros((len(dm_12_entry_ic)+len(dm_exit_12), 4))\n",
    "\n",
    "def fill_mod(out, first, second):\n",
    "    n1 = len(first)\n",
    "    out[:n1, :3] = first[:, :3]\n",
    "    out[:n1,  3] = np.linalg.norm(first[:, 3:6], axis=1)\n",
    "    out[n1:, :3] = second[:, :3]\n",
    "    out[n1:,  3] = np.linalg.norm(second[:, 3:6], axis=1)\n",
    "\n",
    "fill_mod(dm_mod_11, dm_11_entry_ic, dm_exit_11)\n",
    "fill_mod(dm_mod_12, dm_12_entry_ic, dm_exit_12)"
   ]
  },
  {
   "cell_type": "code",
   "execution_count": 13,
   "id": "bf70909a",
   "metadata": {},
   "outputs": [
    {
     "ename": "ValueError",
     "evalue": "`y` must be a 2-dimensional array.",
     "output_type": "error",
     "traceback": [
      "\u001b[31m---------------------------------------------------------------------------\u001b[39m",
      "\u001b[31mValueError\u001b[39m                                Traceback (most recent call last)",
      "\u001b[36mCell\u001b[39m\u001b[36m \u001b[39m\u001b[32mIn[13]\u001b[39m\u001b[32m, line 8\u001b[39m\n\u001b[32m      5\u001b[39m mu  = dm_mod_11[:,\u001b[32m3\u001b[39m]   \u001b[38;5;66;03m# el módulo del dipolo\u001b[39;00m\n\u001b[32m      7\u001b[39m \u001b[38;5;66;03m# Interpolador RBF\u001b[39;00m\n\u001b[32m----> \u001b[39m\u001b[32m8\u001b[39m rbf_11 = \u001b[43mRBFInterpolator\u001b[49m\u001b[43m(\u001b[49m\u001b[43mr12\u001b[49m\u001b[43m,\u001b[49m\u001b[43m \u001b[49m\u001b[43mr13\u001b[49m\u001b[43m,\u001b[49m\u001b[43m \u001b[49m\u001b[43mr23\u001b[49m\u001b[43m,\u001b[49m\u001b[43m \u001b[49m\u001b[43mmu\u001b[49m\u001b[43m,\u001b[49m\u001b[43m \u001b[49m\u001b[43mkernel\u001b[49m\u001b[43m=\u001b[49m\u001b[33;43m\"\u001b[39;49m\u001b[33;43mcubic\u001b[39;49m\u001b[33;43m\"\u001b[39;49m\u001b[43m,\u001b[49m\u001b[43m \u001b[49m\u001b[43mepsilon\u001b[49m\u001b[43m=\u001b[49m\u001b[32;43m1.0\u001b[39;49m\u001b[43m)\u001b[49m\n",
      "\u001b[36mFile \u001b[39m\u001b[32m~/miniconda3/envs/gnrl_env/lib/python3.13/site-packages/scipy/interpolate/_rbfinterp.py:295\u001b[39m, in \u001b[36mRBFInterpolator.__init__\u001b[39m\u001b[34m(self, y, d, neighbors, smoothing, kernel, epsilon, degree)\u001b[39m\n\u001b[32m    293\u001b[39m y = np.asarray(y, dtype=\u001b[38;5;28mfloat\u001b[39m, order=\u001b[33m\"\u001b[39m\u001b[33mC\u001b[39m\u001b[33m\"\u001b[39m)\n\u001b[32m    294\u001b[39m \u001b[38;5;28;01mif\u001b[39;00m y.ndim != \u001b[32m2\u001b[39m:\n\u001b[32m--> \u001b[39m\u001b[32m295\u001b[39m     \u001b[38;5;28;01mraise\u001b[39;00m \u001b[38;5;167;01mValueError\u001b[39;00m(\u001b[33m\"\u001b[39m\u001b[33m`y` must be a 2-dimensional array.\u001b[39m\u001b[33m\"\u001b[39m)\n\u001b[32m    297\u001b[39m ny, ndim = y.shape\n\u001b[32m    299\u001b[39m d_dtype = \u001b[38;5;28mcomplex\u001b[39m \u001b[38;5;28;01mif\u001b[39;00m np.iscomplexobj(d) \u001b[38;5;28;01melse\u001b[39;00m \u001b[38;5;28mfloat\u001b[39m\n",
      "\u001b[31mValueError\u001b[39m: `y` must be a 2-dimensional array."
     ]
    }
   ],
   "source": [
    "# Tus datos: distancias y momento dipolar\n",
    "r12 = dm_mod_11[:,0]\n",
    "r13 = dm_mod_11[:,1]\n",
    "r23 = dm_mod_11[:,2]\n",
    "mu  = dm_mod_11[:,3]   # el módulo del dipolo\n",
    "\n",
    "# Interpolador RBF\n",
    "rbf_11 = RBFInterpolator(r12, r13, r23, mu, kernel=\"cubic\", epsilon=1.0)"
   ]
  },
  {
   "cell_type": "markdown",
   "id": "188c06a2",
   "metadata": {},
   "source": [
    "# Prueba de método de análisis LOO para RBF interpolation"
   ]
  },
  {
   "cell_type": "markdown",
   "id": "765ad053",
   "metadata": {},
   "source": []
  },
  {
   "cell_type": "code",
   "execution_count": null,
   "id": "1ea65f6d",
   "metadata": {},
   "outputs": [],
   "source": []
  }
 ],
 "metadata": {
  "kernelspec": {
   "display_name": "gnrl_env",
   "language": "python",
   "name": "python3"
  },
  "language_info": {
   "codemirror_mode": {
    "name": "ipython",
    "version": 3
   },
   "file_extension": ".py",
   "mimetype": "text/x-python",
   "name": "python",
   "nbconvert_exporter": "python",
   "pygments_lexer": "ipython3",
   "version": "3.13.2"
  }
 },
 "nbformat": 4,
 "nbformat_minor": 5
}
